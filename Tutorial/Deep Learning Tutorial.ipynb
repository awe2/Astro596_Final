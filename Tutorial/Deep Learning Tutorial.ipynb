{
 "cells": [
  {
   "cell_type": "markdown",
   "metadata": {},
   "source": [
    "<h1>This Notebook will serve as an introduction to Deep Learning</h1>\n",
    "\n",
    "\n",
    "We will cover:\n",
    "* What the heck is Deep Learning\n",
    "* Build Intuition of the relationships between hyperparameters\n",
    "* How to code one up\n",
    "* Basics of the Photo-Z problem"
   ]
  },
  {
   "cell_type": "code",
   "execution_count": 38,
   "metadata": {},
   "outputs": [],
   "source": [
    "#imports\n",
    "import numpy as np\n",
    "import matplotlib.pyplot as plt\n",
    "import pandas as pd\n",
    "import tensorflow as tf\n",
    "from tensorflow import keras\n",
    "from evaluation import * #some visualization functions"
   ]
  },
  {
   "cell_type": "markdown",
   "metadata": {},
   "source": [
    "<h3>Deep Learning is an ill-defined term. It functions as a pseudonym for one algorithem: the Artificial Neural Network</h3>\n",
    "\n",
    "![Alt](./1.png \"Title\")\n"
   ]
  },
  {
   "cell_type": "markdown",
   "metadata": {},
   "source": [
    "<h3>Artificial Neural Networks are a class of algorithem that take inspiration from Human Anatomy</h3>\n",
    "\n",
    "![](./4.jpg)\n",
    "\n",
    "<p>To summarize, Neurons are connected dendrite to axion, dendrite to axion, to form connections. These connections are called the synapse. Some stimulus (either a raw input or dendrite connection) will chemically transfer energy to the neuron. When the Neuron accumulates enough stimulus to overcome an activation barrier, the neuron potentiates: The nucleus sends a signal down the Myelin Sheeth that reaches the axion terminals. The axion terminals release chemicals called neurotransmitters, who quickly swim across brain fluid to the connected dendrite to stimulate the next neuron cell.</p>\n",
    "\n"
   ]
  },
  {
   "cell_type": "markdown",
   "metadata": {},
   "source": [
    "![Alt](./2.png \"Title\")\n",
    " \n",
    "In a similar fashion, Artificial Neural Networks mock this biology by creating small architectures of 'neuron cells' in layers. The most simple form, a Multi-Layer Perceptron (MLP) also known as a DenseNet, is a few layers of neurons who are maximally connected to the following layer"
   ]
  },
  {
   "cell_type": "markdown",
   "metadata": {},
   "source": [
    "<h1>But What Exactly are these Neurons?</h1>\n",
    "\n",
    "They can be summarized as:\n",
    "<h1>$$ Output = A(\\vec{W}\\cdot \\vec{I} + B)$$</h1>\n",
    "\n",
    "With: \n",
    "* A() some activation function, more below\n",
    "* W the weight\n",
    "* B the bias\n",
    "* I the input\n",
    "\n",
    "Note: Each W and B are individual to each neuron, they are free parameters that are trained\n",
    "\n",
    "Since each Neuron is connected to the next, the Outputs from each neuron are accumulated as the Input vector to the next!\n",
    "\n",
    "The goal of Training is to find a set of $\\vec{W}$ and $B$ that minimize some 'cost', or 'loss', or 'Liklihood' function"
   ]
  },
  {
   "cell_type": "markdown",
   "metadata": {},
   "source": [
    "<h1>Optimizers</h1>\n",
    "\n",
    "Gautham had a lecture on optimizers and the same rules apply here. The most simple optimizer is Stochastic Gradient Descent, which can be thought of as a ball rolling down an incline to find a minimum\n",
    "\n",
    "![](./5.png \"title\")\n",
    "\n",
    "But in general, improvements have been made to this for Deep Learning. To cut the story short, we will use the Adam Optimizer, which usually performs better. It is an adaptive algorithem that is similar to gradient descent, so for intuition just continue to think about balls and liklihood manifolds\n",
    "\n",
    "One hyperparameter that is essential to understanding is the learning rate. The multiple arrows in the above diagram represent multiple training steps, and the size of each arrow is proportional to the derivative. That constant of proportionality is the learning rate, sometimes represented $\\gamma$. A common choice for Adam is 1e-3. in General ANN performance is very sensitive to LR"
   ]
  },
  {
   "cell_type": "markdown",
   "metadata": {},
   "source": [
    "<h1>Activation Functions</h1>\n",
    "\n",
    "An activation function transforms the output. In our analogy to the human brain, activation functions are important barriers to noise: since synapses are imperfect, neurotransmitters can leak to other dendrites in small amounts. This is background noise that we would like our brain to be insenstive to, so we create a barrier function. Activations also can introduce non-linearities into our model to make them more complex. Activations typically are only functions of the weights, input, and Biases, so don't carry extra hyperparameters. BUT: the choice of activation is up to you, and is a hyperparameter!\n",
    "\n",
    "Lets explore a few together:\n",
    "![](./7.png)\n",
    "\n",
    "In general, the ones that look more like a step function are better suited to categorization tasks, while the ones that are nonlinear and slow rising are better suited to regression tasks"
   ]
  },
  {
   "cell_type": "markdown",
   "metadata": {},
   "source": [
    "<h1>Cost Functions</h1>\n",
    "\n",
    "Cost functions are what we want to optimize, and, we've often called these negative log liklihood functions in class. Just like activations, some are better suited to categorization or optimiaztion. Its also possible to define your own.\n",
    "\n",
    "Cost functions take as input the target value and the output value of the neural network and output a score. Minimizing this score is to train the network.\n",
    "\n",
    "For instance, a simple cost function is Mean Squared Error: \n",
    "<h1>$$ MSE = \\alpha (y_{true} - y_{output})^2 $$</h1>\n",
    "\n",
    "For categorization, the categorical cross-entropy loss, or categorical log loss is favored:\n",
    "\n",
    "IDk what that is, but its favored"
   ]
  },
  {
   "cell_type": "markdown",
   "metadata": {},
   "source": [
    "<h1>General Algorithem</h1>\n",
    "\n",
    "With this in mind the general algorithem for an artificial neural network is as follows:\n",
    "\n",
    "* 1: Initialize everything, (dont worry Keras does this for us)\n",
    "\n",
    "* 2: 'feedforeward': A batch of training objects are given to the model and evaluated to get an output\n",
    "\n",
    "* 3: With an output and target values, the Loss function is evaluated\n",
    "\n",
    "* 4: The optimizer takes derivatives of the loss function with respect to each parameter in the network (or whatever its going to do to optimize) You can think of this as a gigantic chain rule that establishes all connection to the network\n",
    "\n",
    "* 5: Because the Last activation and layer will be the outermost functions in the Y_output value, these derivates are calculated first, then we can work our way inward This is called \"Back Propogation\"\n",
    "\n",
    "* 6: With all derivatives calculated, our optimizer suggests an update, and we apply it\n",
    "\n",
    "* 7: repeat steps 2-6 until convergence, or we run out of training data, or we begin to overtrain, or I get antsy\n",
    "\n",
    "* 8 Publish\n",
    "\n",
    "* 9 repeat steps 1-8 until I have a nobel prize"
   ]
  },
  {
   "cell_type": "markdown",
   "metadata": {},
   "source": [
    "<h1>Overtraining and Regularizers</h1>\n",
    "\n",
    "NOW I HEAR YOU SAYING:\n",
    "\n",
    "but wait! if there are just a few maximally connected layer, each with their own weight and bias, then that means there may be million of free parameters! What about over training??\n",
    "\n",
    "Quick and short: nah dont worry about it\n",
    "\n",
    "What we will do is monitor our training with a held-out set of examples to evaluate the performance continuously on examples that the network has never seen before and can't adapt to. Then at the end we will choose the point where the best performance on the validation set was achieved.\n",
    "\n",
    "Of course, that since we are the hand-selecting the optimized model on the first held out set (validation set) we will need another held out set (test set) to evaluate overall performance on at the end. **AND: we can not make any choice of optimization on this test set! or else we invalidate its usefulness!**\n",
    "\n",
    "But there are other things we can do as well. It turns out the \"dropping out\" some connections randomly during each foreward pass and evaluation can force the network to make each connection more robust. Doing this introduces some error into the activation function to prevent overtraining. the fraction of layers to dropout is a hyperparameter."
   ]
  },
  {
   "cell_type": "markdown",
   "metadata": {},
   "source": [
    "<h1>Batch Size</h1>\n",
    "\n",
    "Finally, there is one more hyperparameter that the network is very sensitive to: How many examples do we show the network at once? Originally, it was thought that showing th network one example at a time (mini-batching) would improve performance, and in some cases it does. However, in only showing the network one at a time, you allow the network to update on individual instead of global features, which may not be desirable. Additionally, since evaluating the network one at a time reduces parrelization speed, it will sickly increase our training time. However, more batches mean more memory that the network will take up in the machine, and at some point with millions parameters we will not have enough memory on laptops to train!\n",
    "\n",
    "In summary: for Photo-Z generally one makes Batch size large (>10), but this doesn't have to be the case. Play with it. "
   ]
  },
  {
   "cell_type": "markdown",
   "metadata": {},
   "source": [
    "<h1>Great Lets Code</h1>"
   ]
  },
  {
   "cell_type": "markdown",
   "metadata": {},
   "source": [
    "<h1>First lets grab some data and pre-process it by adding features and splitting our training set into train-validation-test sets</h1>"
   ]
  },
  {
   "cell_type": "code",
   "execution_count": 4,
   "metadata": {},
   "outputs": [],
   "source": [
    "cols=['dered_u','dered_g','dered_r','dered_i','dered_z','dered_color_ug','dered_color_gr','dered_color_ri','dered_color_iz','dered_frac_uz','C']"
   ]
  },
  {
   "cell_type": "code",
   "execution_count": 9,
   "metadata": {},
   "outputs": [],
   "source": [
    "#large dataset, don't grab all of it, only use columns we care about\n",
    "X = pd.read_csv('C://Users//qwsaz//Photo_Z//DATA//SDSS_DR12_awe2_0.csv', usecols=cols)\n",
    "#targets\n",
    "Y = pd.read_csv('C://Users//qwsaz//Photo_Z//DATA//SDSS_DR12_awe2_0.csv',usecols=['z'])"
   ]
  },
  {
   "cell_type": "code",
   "execution_count": 10,
   "metadata": {},
   "outputs": [],
   "source": [
    "#when I made this dataset I grabbed alot of sparse region data. Lets get back to a region where we have enough examples\n",
    "X_cut_1 = X[ Y['z']<=0.4]\n",
    "Y_cut_1 = Y[ Y['z']<=0.4]\n",
    "#DY_cut_1 = DY[ Y['z']<=0.4]"
   ]
  },
  {
   "cell_type": "markdown",
   "metadata": {},
   "source": [
    "<h1>Now create Holdout sets, lets all make sure to do this the same way!</h1>\n",
    "\n",
    "I am also going to condense and convert the problem into a categorical one so I can do a trick later. I am simply binning the targets into 180 bins (bins size > Z_err) on the region 0<Z<0.4\n",
    "\n",
    "Then, I am using a keras function to one-hot encode the categorical quantitiy to a vector of len(180), describing where the quantity is."
   ]
  },
  {
   "cell_type": "code",
   "execution_count": 33,
   "metadata": {},
   "outputs": [],
   "source": [
    "NB_BINS = 60 * 3\n",
    "BATCH_SIZE = 64\n",
    "ZMIN = 0.0\n",
    "ZMAX = 0.4\n",
    "BIN_SIZE = (ZMAX - ZMIN) / NB_BINS\n",
    "range_z = np.linspace(ZMIN, ZMAX, NB_BINS + 1)[:NB_BINS]"
   ]
  },
  {
   "cell_type": "code",
   "execution_count": 17,
   "metadata": {},
   "outputs": [],
   "source": [
    "x_train = X_cut_1.iloc[0:175000].values #175,000 train\n",
    "y_train = tf.keras.utils.to_categorical(np.round((180-1)*(Y_cut_1.iloc[0:175000].values[:,0]/0.4),0).astype(int))\n",
    "#y_train = Y_cut_1.iloc[0:175000].values[:,0]\n",
    "#y_train = 1/((0.02)*np.sqrt(2*np.pi))*np.exp(-1*((range_z - np.ones((180))*y_train[:,np.newaxis])**2) * 1/(2*(0.02)**2))\n",
    "\n",
    "x_val = X_cut_1.iloc[175000:300000].values #125,000 val\n",
    "y_val_examine = (Y_cut_1.iloc[175000:300000].values[:,0])\n",
    "y_val = tf.keras.utils.to_categorical(np.round((180-1)*(Y_cut_1.iloc[175000:300000].values[:,0]/0.4),0).astype(int))\n",
    "#y_val = Y_cut_1.iloc[175000:300000].values[:,0]\n",
    "\n",
    "x_test = X_cut_1.iloc[300000::].values #~200,000 test\n",
    "y_test = tf.keras.utils.to_categorical(np.round((180-1)*(Y_cut_1.iloc[300000::].values[:,0]/0.4),0).astype(int))\n",
    "#y_test = Y_cut_1.iloc[300000::].values[:,0]"
   ]
  },
  {
   "cell_type": "markdown",
   "metadata": {},
   "source": [
    "<h1>Now lets define the architecture!<h1>"
   ]
  },
  {
   "cell_type": "code",
   "execution_count": 22,
   "metadata": {},
   "outputs": [],
   "source": [
    "def MLP():\n",
    "    IN = keras.layers.Input((11,))\n",
    "    dense1 = keras.layers.Dense(45,activation=keras.activations.relu)(IN)\n",
    "    drop1 = keras.layers.Dropout(0.05)(dense1)\n",
    "    \n",
    "    dense2 = keras.layers.Dense(45,activation=keras.activations.relu)(drop1)\n",
    "    drop2 = keras.layers.Dropout(0.05)(dense2) #0.1\n",
    "    \n",
    "    dense3 = keras.layers.Dense(45,activation=keras.activations.relu)(drop2)\n",
    "    drop3 = keras.layers.Dropout(0.05)(dense3)\n",
    "    \n",
    "    dense4 = keras.layers.Dense(45,activation=keras.activations.relu)(drop3)\n",
    "    drop4 = keras.layers.Dropout(0.05)(dense4)#0.1\n",
    "    \n",
    "    dense5 = keras.layers.Dense(180,activation=keras.activations.softmax)(drop4)\n",
    "    \n",
    "    model = keras.Model(inputs=[IN],outputs=[dense5])\n",
    "    return(model)"
   ]
  },
  {
   "cell_type": "code",
   "execution_count": 13,
   "metadata": {},
   "outputs": [],
   "source": [
    "#This is also incredibly useful:\n",
    "filepath='MLP_PDF_MODEL.hdf5' #what and where to save model as?\n",
    "\n",
    "#Keras has functionalities called 'Call Backs' that can interact with the model during training\n",
    "\n",
    "#This callback will save the model whenever the validation loss is lower than the last save!\n",
    "ModelCheckpointCB = keras.callbacks.ModelCheckpoint(filepath, monitor='val_loss', verbose=1, save_best_only=True, save_weights_only=False, mode='auto')\n",
    "#This allows us to pick the model who has the best performance on our held out set!\n",
    "\n",
    "#Another call back example changes the Learning rate on the fly, good for accelerated the fine grained optimization searches\n",
    "\n",
    "#reduce_lr = tf.keras.callbacks.ReduceLROnPlateau(monitor='loss', factor=0.3, verbose=1, patience=2, min_lr=1e-8)"
   ]
  },
  {
   "cell_type": "markdown",
   "metadata": {},
   "source": [
    "<h1>Alright lets call up our model then compile it</h1>"
   ]
  },
  {
   "cell_type": "code",
   "execution_count": 23,
   "metadata": {},
   "outputs": [],
   "source": [
    "#model are stored in a model object, but the model still is missing a few parts! we need to assign an optimizer and loss!\n",
    "mymodel = MLP()"
   ]
  },
  {
   "cell_type": "code",
   "execution_count": 15,
   "metadata": {},
   "outputs": [
    {
     "name": "stdout",
     "output_type": "stream",
     "text": [
      "Model: \"model\"\n",
      "_________________________________________________________________\n",
      "Layer (type)                 Output Shape              Param #   \n",
      "=================================================================\n",
      "input_1 (InputLayer)         [(None, 17)]              0         \n",
      "_________________________________________________________________\n",
      "dense (Dense)                (None, 45)                810       \n",
      "_________________________________________________________________\n",
      "dropout (Dropout)            (None, 45)                0         \n",
      "_________________________________________________________________\n",
      "dense_1 (Dense)              (None, 45)                2070      \n",
      "_________________________________________________________________\n",
      "dropout_1 (Dropout)          (None, 45)                0         \n",
      "_________________________________________________________________\n",
      "dense_2 (Dense)              (None, 45)                2070      \n",
      "_________________________________________________________________\n",
      "dropout_2 (Dropout)          (None, 45)                0         \n",
      "_________________________________________________________________\n",
      "dense_3 (Dense)              (None, 45)                2070      \n",
      "_________________________________________________________________\n",
      "dropout_3 (Dropout)          (None, 45)                0         \n",
      "_________________________________________________________________\n",
      "dense_4 (Dense)              (None, 180)               8280      \n",
      "=================================================================\n",
      "Total params: 15,300\n",
      "Trainable params: 15,300\n",
      "Non-trainable params: 0\n",
      "_________________________________________________________________\n"
     ]
    }
   ],
   "source": [
    "#but before we do, lets take a peak at our model\n",
    "mymodel.summary()"
   ]
  },
  {
   "cell_type": "code",
   "execution_count": 24,
   "metadata": {},
   "outputs": [],
   "source": [
    "#Optimizer definition is Easily done with Keras!\n",
    "adam = tf.keras.optimizers.Adam(lr=3e-4) #there are other optimizer hyperparameters, but Adam is good with base values\n",
    "#and a loss function, then in our compile call we actually instantiate all the variables. This will let us know if we have\n",
    "#enough memory to train or not.\n",
    "mymodel.compile(optimizer=adam, loss='categorical_crossentropy') #can also define our own or check out them in the docs"
   ]
  },
  {
   "cell_type": "markdown",
   "metadata": {},
   "source": [
    "<h1>We are ready to train!<h1>"
   ]
  },
  {
   "cell_type": "code",
   "execution_count": 26,
   "metadata": {},
   "outputs": [
    {
     "name": "stdout",
     "output_type": "stream",
     "text": [
      "Train on 175000 samples, validate on 125000 samples\n",
      "Epoch 1/5\n",
      "174848/175000 [============================>.] - ETA: 0s - loss: 3.7257\n",
      "Epoch 00001: val_loss improved from 3.78577 to 3.65107, saving model to MLP_PDF_MODEL.hdf5\n",
      "175000/175000 [==============================] - 27s 156us/sample - loss: 3.7257 - val_loss: 3.6511\n",
      "Epoch 2/5\n",
      "174880/175000 [============================>.] - ETA: 0s - loss: 3.6966\n",
      "Epoch 00002: val_loss did not improve from 3.65107\n",
      "175000/175000 [==============================] - 25s 144us/sample - loss: 3.6967 - val_loss: 3.7196\n",
      "Epoch 3/5\n",
      "174816/175000 [============================>.] - ETA: 0s - loss: 3.6763\n",
      "Epoch 00003: val_loss improved from 3.65107 to 3.59159, saving model to MLP_PDF_MODEL.hdf5\n",
      "175000/175000 [==============================] - 26s 147us/sample - loss: 3.6762 - val_loss: 3.5916\n",
      "Epoch 4/5\n",
      "174784/175000 [============================>.] - ETA: 0s - loss: 3.6576\n",
      "Epoch 00004: val_loss did not improve from 3.59159\n",
      "175000/175000 [==============================] - 26s 150us/sample - loss: 3.6575 - val_loss: 3.6186\n",
      "Epoch 5/5\n",
      "174944/175000 [============================>.] - ETA: 0s - loss: 3.6433\n",
      "Epoch 00005: val_loss improved from 3.59159 to 3.58534, saving model to MLP_PDF_MODEL.hdf5\n",
      "175000/175000 [==============================] - 31s 175us/sample - loss: 3.6433 - val_loss: 3.5853\n"
     ]
    }
   ],
   "source": [
    "history = mymodel.fit(x=x_train,\n",
    "                      y=y_train,\n",
    "                      batch_size=32, #this is important\n",
    "                      epochs=5, #this says how many times will we show our training set?\n",
    "                      verbose=1, \n",
    "                      validation_data=(x_val,y_val), #here we palce our held out set, Keras will evaluate 1/epoch\n",
    "                      callbacks=[ModelCheckpointCB])"
   ]
  },
  {
   "cell_type": "code",
   "execution_count": 28,
   "metadata": {},
   "outputs": [
    {
     "data": {
      "image/png": "[encoded data removed]",
      "text/plain": [
       "<Figure size 432x288 with 1 Axes>"
      ]
     },
     "metadata": {},
     "output_type": "display_data"
    }
   ],
   "source": [
    "train_loss = history.history['loss']\n",
    "val_loss = history.history['val_loss']\n",
    "itera = np.arange(0,5,1)\n",
    "plt.plot(itera,train_loss,'orange',label='train')\n",
    "plt.plot(itera,val_loss,'blue',label='val')\n",
    "#plt.xscale('log')\n",
    "plt.title('LOSS')\n",
    "plt.xlabel('epoch')\n",
    "plt.legend()\n",
    "plt.show()"
   ]
  },
  {
   "cell_type": "code",
   "execution_count": 30,
   "metadata": {},
   "outputs": [],
   "source": [
    "#load weights from best performing epoch:\n",
    "mymodel.load_weights(filepath)"
   ]
  },
  {
   "cell_type": "code",
   "execution_count": 31,
   "metadata": {},
   "outputs": [],
   "source": [
    "y_pred = mymodel.predict(x_val)"
   ]
  },
  {
   "cell_type": "code",
   "execution_count": 34,
   "metadata": {},
   "outputs": [
    {
     "data": {
      "image/png": "[encoded data removed]",
      "text/plain": [
       "<Figure size 432x288 with 1 Axes>"
      ]
     },
     "metadata": {},
     "output_type": "display_data"
    }
   ],
   "source": [
    "bins,values,something = plt.hist(np.sum(y_train*range_z,1),bins=range_z)\n",
    "plt.title('true distribution')\n",
    "plt.show()"
   ]
  },
  {
   "cell_type": "code",
   "execution_count": 35,
   "metadata": {},
   "outputs": [
    {
     "data": {
      "image/png": "[encoded data removed]",
      "text/plain": [
       "<Figure size 432x288 with 1 Axes>"
      ]
     },
     "metadata": {},
     "output_type": "display_data"
    }
   ],
   "source": [
    "plt.hist(np.sum(y_pred*range_z,1),bins=range_z) #for cateogiral\n",
    "plt.title('predicted distribution')\n",
    "#plt.hist(y_pred,bins=range_z) #for regression\n",
    "plt.show()"
   ]
  },
  {
   "cell_type": "code",
   "execution_count": 39,
   "metadata": {},
   "outputs": [
    {
     "name": "stdout",
     "output_type": "stream",
     "text": [
      "(125000,)\n",
      "CRPS:  0.0861\n",
      "MAD:  0.0157\n",
      "bias:  -0.0035\n",
      "outlier_fraction_eta pasquet:  0.0021\n",
      "RMS:  0.021\n",
      "outlier fraction LSST:  0.0118\n"
     ]
    },
    {
     "data": {
      "image/png": "[encoded data removed]",
      "text/plain": [
       "<Figure size 432x288 with 2 Axes>"
      ]
     },
     "metadata": {},
     "output_type": "display_data"
    },
    {
     "name": "stdout",
     "output_type": "stream",
     "text": [
      "(125000,)\n",
      "(125000,)\n",
      "(125000, 180)\n"
     ]
    },
    {
     "data": {
      "image/png": "[encoded data removed]",
      "text/plain": [
       "<Figure size 432x288 with 1 Axes>"
      ]
     },
     "metadata": {},
     "output_type": "display_data"
    },
    {
     "name": "stdout",
     "output_type": "stream",
     "text": [
      "0.000712\n",
      " \n",
      "Normal distribution's fraction is 0.0002\n"
     ]
    }
   ],
   "source": [
    "from scipy.stats import kde\n",
    "x=y_val_examine\n",
    "y=np.sum(range_z*y_pred,1) #for categorical\n",
    "#y=y_pred[:,0] #for regression\n",
    "\n",
    "\n",
    "#CRPS, FOR CLASS ONLY:\n",
    "z_bins = np.argmax(y_val,axis=1)\n",
    "CRPS=np.zeros(len(y_val))\n",
    "for i in range(len(CRPS)):\n",
    "    CRPS[i] = (np.sum((np.cumsum(y_pred[i,0:z_bins[i]]))**2) + np.sum((np.cumsum(y_pred[i,z_bins[i]::])-1)**2)) * BIN_SIZE\n",
    "print(np.shape(CRPS))\n",
    "CRPS_estimator=np.mean(CRPS)\n",
    "\n",
    "#summary stats\n",
    "residuals = (x-y)/(1+x)\n",
    "bias = np.mean(residuals)\n",
    "MAD = 1.4826*np.median(abs(residuals - np.median(residuals)))\n",
    "outlier_fraction_eta = len(residuals[residuals > 5*MAD])/len(residuals)\n",
    "eta_LSST = len(residuals[residuals > 3*MAD*(1+residuals)])/len(residuals)\n",
    "RMS = np.sqrt(np.mean(np.square(residuals)))\n",
    "print('CRPS: ',round(CRPS_estimator,4))\n",
    "print('MAD: ',round(MAD,4))\n",
    "print('bias: ',round(bias,4))\n",
    "print('outlier_fraction_eta pasquet: ',round(outlier_fraction_eta,4))\n",
    "print('RMS: ',round(RMS,4))\n",
    "print('outlier fraction LSST: ',round(eta_LSST,4))\n",
    "#KDE plot\n",
    "nbins=300\n",
    "x=x[::100]\n",
    "y=y[::100]\n",
    "\n",
    "k = kde.gaussian_kde([x,y])\n",
    "xi, yi = np.mgrid[0:0.4:nbins*1j, 0:0.4:nbins*1j]\n",
    "zi = k(np.vstack([xi.flatten(), yi.flatten()]))\n",
    " \n",
    "# Make the plot\n",
    "plt.pcolormesh(xi, yi, zi.reshape(xi.shape), cmap='jet')\n",
    "plt.plot([0,1],[0,1],'k--')\n",
    "plt.xlim(0,0.3)\n",
    "plt.ylim(0,0.3)\n",
    "plt.title('MLP: every 100th point')\n",
    "plt.colorbar()\n",
    "plt.show()\n",
    "\n",
    "PIT(y_val_examine,y_pred,'MLP PIT')"
   ]
  }
 ],
 "metadata": {
  "kernelspec": {
   "display_name": "Python 3",
   "language": "python",
   "name": "python3"
  },
  "language_info": {
   "codemirror_mode": {
    "name": "ipython",
    "version": 3
   },
   "file_extension": ".py",
   "mimetype": "text/x-python",
   "name": "python",
   "nbconvert_exporter": "python",
   "pygments_lexer": "ipython3",
   "version": "3.6.6"
  }
 },
 "nbformat": 4,
 "nbformat_minor": 2
}
