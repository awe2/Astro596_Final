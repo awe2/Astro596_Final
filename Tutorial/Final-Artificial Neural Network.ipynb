{
 "cells": [
  {
   "cell_type": "code",
   "execution_count": 1,
   "metadata": {},
   "outputs": [],
   "source": [
    "import os\n",
    "os.environ['KMP_DUPLICATE_LIB_OK']='True'\n",
    "\n",
    "%matplotlib inline\n",
    "import numpy as np\n",
    "import matplotlib.pyplot as plt\n",
    "import pandas as pd\n",
    "import tensorflow as tf\n",
    "from tensorflow.keras.models import Sequential\n",
    "from tensorflow.keras.layers import Dense, Dropout\n",
    "from tensorflow.keras.callbacks import ModelCheckpoint\n",
    "from tensorflow.keras.optimizers import Adam"
   ]
  },
  {
   "cell_type": "code",
   "execution_count": 2,
   "metadata": {},
   "outputs": [],
   "source": [
    "cols=['dered_u','dered_g','dered_r','dered_i','dered_z','dered_color_ug','dered_color_gr','dered_color_ri','dered_color_iz','dered_frac_uz','C']\n",
    "data = pd.read_csv('./Data/SDSS_DR12_awe2_0.csv', usecols=['z']+cols)\n",
    "X = data[cols]\n",
    "Y = data[['z']]\n",
    "X_cut_1 = X[ Y['z']<=0.4]\n",
    "Y_cut_1 = Y[ Y['z']<=0.4]\n",
    "\n",
    "del data,X,Y"
   ]
  },
  {
   "cell_type": "code",
   "execution_count": 3,
   "metadata": {},
   "outputs": [],
   "source": [
    "NB_BINS = 60 * 3\n",
    "ZMIN = 0.0\n",
    "ZMAX = 0.4\n",
    "BIN_SIZE = (ZMAX - ZMIN) / NB_BINS\n",
    "range_z = np.linspace(ZMIN, ZMAX, NB_BINS + 1)[:NB_BINS]"
   ]
  },
  {
   "cell_type": "code",
   "execution_count": 4,
   "metadata": {},
   "outputs": [],
   "source": [
    "x_train = X_cut_1.iloc[0:175000].values #175,000 train\n",
    "y_train = tf.keras.utils.to_categorical(np.round((180-1)*(Y_cut_1.iloc[0:175000].values[:,0]/0.4),0).astype(int))\n",
    "\n",
    "x_val = X_cut_1.iloc[175000:300000].values #125,000 val\n",
    "y_val_examine = (Y_cut_1.iloc[175000:300000].values[:,0])\n",
    "y_val = tf.keras.utils.to_categorical(np.round((180-1)*(Y_cut_1.iloc[175000:300000].values[:,0]/0.4),0).astype(int))\n",
    "\n",
    "x_test = X_cut_1.iloc[300000::].values #~200,000 test\n",
    "y_test = tf.keras.utils.to_categorical(np.round((180-1)*(Y_cut_1.iloc[300000::].values[:,0]/0.4),0).astype(int))"
   ]
  },
  {
   "cell_type": "code",
   "execution_count": 5,
   "metadata": {},
   "outputs": [],
   "source": [
    "def MLP(Hlayer,Hneuron,Drate):\n",
    "    model = Sequential(name=f'{Hlayer}_hidden_layer')\n",
    "    model.add(Dense(Hneuron, activation='relu', input_dim=In,name=f'input_layer'))\n",
    "    model.add(Dropout(Drate,name=f'dropout_{Drate}'))\n",
    "    for i in range(Hlayer):\n",
    "        model.add(Dense(Hneuron, activation='relu',name=f'hidden_layer_{i+1}'))\n",
    "        model.add(Dropout(Drate,name=f'dropout{i+1}_{Drate}'))\n",
    "        \n",
    "    model.add(Dense(180, activation='softmax',name=f'output_layer'))\n",
    "    return model\n",
    "\n",
    "from matplotlib.ticker import MaxNLocator\n",
    "def lossplot(history):\n",
    "    train_loss = history.history['loss']\n",
    "    val_loss = history.history['val_loss']\n",
    "    itera = np.arange(1,epochs+1,1).astype(int)\n",
    "    plt.plot(itera,train_loss,'orange',label='train')\n",
    "    plt.plot(itera,val_loss,'blue',label='val')\n",
    "    plt.xlabel('epoch')\n",
    "    plt.ylabel('LOSS')\n",
    "    plt.legend()\n",
    "    ax=plt.gca()\n",
    "    ax.set_xlim([0,epochs])\n",
    "    ax.xaxis.set_major_locator(MaxNLocator(integer=True))\n",
    "    plt.show()\n",
    "\n",
    "titles=['train','val','test']\n",
    "def histplot(X,Y):\n",
    "    fig,axes = plt.subplots(1,3,figsize=(12,4))\n",
    "    for i in range(len(X)):\n",
    "        x = X[i]\n",
    "        y = Y[i]\n",
    "        ax = axes[i]\n",
    "        y_pred = model.predict(x[::5])\n",
    "        ax.hist(np.sum(y[::5]*range_z,1),bins=range_z,density=True,label='true dist',alpha=0.7)\n",
    "        ax.hist(np.sum(y_pred*range_z,1),bins=range_z,density=True,label='predicted',alpha=0.7)\n",
    "        ax.set_title(titles[i])\n",
    "        ax.set_xlim([0.0,0.4])\n",
    "        ax.set_ylim([0.0,12.0])\n",
    "        ax.legend()\n",
    "    \n",
    "    fig.tight_layout()\n",
    "    plt.show()"
   ]
  },
  {
   "cell_type": "code",
   "execution_count": 6,
   "metadata": {},
   "outputs": [
    {
     "name": "stdout",
     "output_type": "stream",
     "text": [
      "Model: \"2_hidden_layer\"\n",
      "_________________________________________________________________\n",
      "Layer (type)                 Output Shape              Param #   \n",
      "=================================================================\n",
      "input_layer (Dense)          (None, 30)                360       \n",
      "_________________________________________________________________\n",
      "dropout_0.1 (Dropout)        (None, 30)                0         \n",
      "_________________________________________________________________\n",
      "hidden_layer_1 (Dense)       (None, 30)                930       \n",
      "_________________________________________________________________\n",
      "dropout1_0.1 (Dropout)       (None, 30)                0         \n",
      "_________________________________________________________________\n",
      "hidden_layer_2 (Dense)       (None, 30)                930       \n",
      "_________________________________________________________________\n",
      "dropout2_0.1 (Dropout)       (None, 30)                0         \n",
      "_________________________________________________________________\n",
      "output_layer (Dense)         (None, 180)               5580      \n",
      "=================================================================\n",
      "Total params: 7,800\n",
      "Trainable params: 7,800\n",
      "Non-trainable params: 0\n",
      "_________________________________________________________________\n",
      "Train on 175000 samples, validate on 125000 samples\n",
      "Epoch 1/30\n",
      "174900/175000 [============================>.] - ETA: 0s - loss: 4.7359\n",
      "Epoch 00001: val_loss improved from inf to 4.60207, saving model to MLP_PDF_MODEL.hdf5\n",
      "175000/175000 [==============================] - 28s 158us/sample - loss: 4.7359 - val_loss: 4.6021\n",
      "Epoch 2/30\n",
      "174900/175000 [============================>.] - ETA: 0s - loss: 4.5450\n",
      "Epoch 00002: val_loss improved from 4.60207 to 4.28825, saving model to MLP_PDF_MODEL.hdf5\n",
      "175000/175000 [==============================] - 33s 190us/sample - loss: 4.5448 - val_loss: 4.2883\n",
      "Epoch 3/30\n",
      "174900/175000 [============================>.] - ETA: 0s - loss: 4.1523\n",
      "Epoch 00003: val_loss improved from 4.28825 to 4.00488, saving model to MLP_PDF_MODEL.hdf5\n",
      "175000/175000 [==============================] - 46s 264us/sample - loss: 4.1522 - val_loss: 4.0049\n",
      "Epoch 4/30\n",
      "174600/175000 [============================>.] - ETA: 0s - loss: 3.9807\n",
      "Epoch 00004: val_loss improved from 4.00488 to 3.85424, saving model to MLP_PDF_MODEL.hdf5\n",
      "175000/175000 [==============================] - 37s 211us/sample - loss: 3.9806 - val_loss: 3.8542\n",
      "Epoch 5/30\n",
      "174900/175000 [============================>.] - ETA: 0s - loss: 3.9040\n",
      "Epoch 00005: val_loss improved from 3.85424 to 3.81193, saving model to MLP_PDF_MODEL.hdf5\n",
      "175000/175000 [==============================] - 40s 226us/sample - loss: 3.9040 - val_loss: 3.8119\n",
      "Epoch 6/30\n",
      "174600/175000 [============================>.] - ETA: 0s - loss: 3.8628\n",
      "Epoch 00006: val_loss improved from 3.81193 to 3.76841, saving model to MLP_PDF_MODEL.hdf5\n",
      "175000/175000 [==============================] - 37s 210us/sample - loss: 3.8627 - val_loss: 3.7684\n",
      "Epoch 7/30\n",
      "174900/175000 [============================>.] - ETA: 0s - loss: 3.8312\n",
      "Epoch 00007: val_loss improved from 3.76841 to 3.73389, saving model to MLP_PDF_MODEL.hdf5\n",
      "175000/175000 [==============================] - 40s 231us/sample - loss: 3.8311 - val_loss: 3.7339\n",
      "Epoch 8/30\n",
      "174900/175000 [============================>.] - ETA: 0s - loss: 3.8045\n",
      "Epoch 00008: val_loss improved from 3.73389 to 3.73216, saving model to MLP_PDF_MODEL.hdf5\n",
      "175000/175000 [==============================] - 47s 268us/sample - loss: 3.8045 - val_loss: 3.7322\n",
      "Epoch 9/30\n",
      "174900/175000 [============================>.] - ETA: 0s - loss: 3.7849\n",
      "Epoch 00009: val_loss improved from 3.73216 to 3.70426, saving model to MLP_PDF_MODEL.hdf5\n",
      "175000/175000 [==============================] - 48s 276us/sample - loss: 3.7849 - val_loss: 3.7043\n",
      "Epoch 10/30\n",
      "174900/175000 [============================>.] - ETA: 0s - loss: 3.7652\n",
      "Epoch 00010: val_loss improved from 3.70426 to 3.67527, saving model to MLP_PDF_MODEL.hdf5\n",
      "175000/175000 [==============================] - 43s 248us/sample - loss: 3.7652 - val_loss: 3.6753\n",
      "Epoch 11/30\n",
      "174900/175000 [============================>.] - ETA: 0s - loss: 3.7503\n",
      "Epoch 00011: val_loss did not improve from 3.67527\n",
      "175000/175000 [==============================] - 41s 237us/sample - loss: 3.7503 - val_loss: 3.6763\n",
      "Epoch 12/30\n",
      "174900/175000 [============================>.] - ETA: 0s - loss: 3.7376\n",
      "Epoch 00012: val_loss improved from 3.67527 to 3.67363, saving model to MLP_PDF_MODEL.hdf5\n",
      "175000/175000 [==============================] - 45s 257us/sample - loss: 3.7375 - val_loss: 3.6736\n",
      "Epoch 13/30\n",
      "174600/175000 [============================>.] - ETA: 0s - loss: 3.7254\n",
      "Epoch 00013: val_loss did not improve from 3.67363\n",
      "175000/175000 [==============================] - 49s 280us/sample - loss: 3.7254 - val_loss: 3.7392\n",
      "Epoch 14/30\n",
      "174900/175000 [============================>.] - ETA: 0s - loss: 3.7148\n",
      "Epoch 00014: val_loss improved from 3.67363 to 3.63467, saving model to MLP_PDF_MODEL.hdf5\n",
      "175000/175000 [==============================] - 35s 199us/sample - loss: 3.7148 - val_loss: 3.6347\n",
      "Epoch 15/30\n",
      "174900/175000 [============================>.] - ETA: 0s - loss: 3.7028- ETA: 0s -\n",
      "Epoch 00015: val_loss did not improve from 3.63467\n",
      "175000/175000 [==============================] - 48s 272us/sample - loss: 3.7028 - val_loss: 3.6520\n",
      "Epoch 16/30\n",
      "174600/175000 [============================>.] - ETA: 0s - loss: 3.6987\n",
      "Epoch 00016: val_loss improved from 3.63467 to 3.61283, saving model to MLP_PDF_MODEL.hdf5\n",
      "175000/175000 [==============================] - 39s 225us/sample - loss: 3.6987 - val_loss: 3.6128\n",
      "Epoch 17/30\n",
      "174900/175000 [============================>.] - ETA: 0s - loss: 3.6878\n",
      "Epoch 00017: val_loss improved from 3.61283 to 3.61190, saving model to MLP_PDF_MODEL.hdf5\n",
      "175000/175000 [==============================] - 32s 186us/sample - loss: 3.6878 - val_loss: 3.6119\n",
      "Epoch 18/30\n",
      "174900/175000 [============================>.] - ETA: 0s - loss: 3.6823\n",
      "Epoch 00018: val_loss did not improve from 3.61190\n",
      "175000/175000 [==============================] - 30s 171us/sample - loss: 3.6823 - val_loss: 3.6257\n",
      "Epoch 19/30\n",
      "174600/175000 [============================>.] - ETA: 0s - loss: 3.6783\n",
      "Epoch 00019: val_loss improved from 3.61190 to 3.59244, saving model to MLP_PDF_MODEL.hdf5\n",
      "175000/175000 [==============================] - 31s 175us/sample - loss: 3.6785 - val_loss: 3.5924\n",
      "Epoch 20/30\n",
      "174900/175000 [============================>.] - ETA: 0s - loss: 3.6695\n",
      "Epoch 00020: val_loss did not improve from 3.59244\n",
      "175000/175000 [==============================] - 30s 171us/sample - loss: 3.6696 - val_loss: 3.5931\n",
      "Epoch 21/30\n",
      "174600/175000 [============================>.] - ETA: 0s - loss: 3.6674\n",
      "Epoch 00021: val_loss did not improve from 3.59244\n",
      "175000/175000 [==============================] - 30s 170us/sample - loss: 3.6673 - val_loss: 3.5954\n",
      "Epoch 22/30\n",
      "174900/175000 [============================>.] - ETA: 0s - loss: 3.6609\n",
      "Epoch 00022: val_loss improved from 3.59244 to 3.58418, saving model to MLP_PDF_MODEL.hdf5\n",
      "175000/175000 [==============================] - 29s 168us/sample - loss: 3.6609 - val_loss: 3.5842\n",
      "Epoch 23/30\n",
      "174900/175000 [============================>.] - ETA: 0s - loss: 3.6600\n",
      "Epoch 00023: val_loss improved from 3.58418 to 3.58167, saving model to MLP_PDF_MODEL.hdf5\n",
      "175000/175000 [==============================] - 30s 170us/sample - loss: 3.6600 - val_loss: 3.5817\n",
      "Epoch 24/30\n",
      "174900/175000 [============================>.] - ETA: 0s - loss: 3.6530\n",
      "Epoch 00024: val_loss did not improve from 3.58167\n",
      "175000/175000 [==============================] - 30s 172us/sample - loss: 3.6530 - val_loss: 3.6241\n",
      "Epoch 25/30\n",
      "174900/175000 [============================>.] - ETA: 0s - loss: 3.6498\n",
      "Epoch 00025: val_loss did not improve from 3.58167\n",
      "175000/175000 [==============================] - 29s 168us/sample - loss: 3.6498 - val_loss: 3.6097\n",
      "Epoch 26/30\n",
      "174900/175000 [============================>.] - ETA: 0s - loss: 3.6471\n",
      "Epoch 00026: val_loss improved from 3.58167 to 3.57622, saving model to MLP_PDF_MODEL.hdf5\n",
      "175000/175000 [==============================] - 28s 160us/sample - loss: 3.6472 - val_loss: 3.5762\n",
      "Epoch 27/30\n"
     ]
    },
    {
     "name": "stdout",
     "output_type": "stream",
     "text": [
      "174900/175000 [============================>.] - ETA: 0s - loss: 3.6460\n",
      "Epoch 00027: val_loss improved from 3.57622 to 3.56897, saving model to MLP_PDF_MODEL.hdf5\n",
      "175000/175000 [==============================] - 31s 178us/sample - loss: 3.6460 - val_loss: 3.5690\n",
      "Epoch 28/30\n",
      "174900/175000 [============================>.] - ETA: 0s - loss: 3.6406\n",
      "Epoch 00028: val_loss improved from 3.56897 to 3.56491, saving model to MLP_PDF_MODEL.hdf5\n",
      "175000/175000 [==============================] - 30s 169us/sample - loss: 3.6405 - val_loss: 3.5649\n",
      "Epoch 29/30\n",
      "174600/175000 [============================>.] - ETA: 0s - loss: 3.6379\n",
      "Epoch 00029: val_loss did not improve from 3.56491\n",
      "175000/175000 [==============================] - 27s 155us/sample - loss: 3.6378 - val_loss: 3.6010\n",
      "Epoch 30/30\n",
      "174600/175000 [============================>.] - ETA: 0s - loss: 3.6372\n",
      "Epoch 00030: val_loss did not improve from 3.56491\n",
      "175000/175000 [==============================] - 28s 160us/sample - loss: 3.6372 - val_loss: 3.5803\n"
     ]
    }
   ],
   "source": [
    "In = len(cols)\n",
    "Hlayer = 2\n",
    "Hneuron = 30\n",
    "Drate = 0.1\n",
    "l_rate = 1e-3\n",
    "batch_size = 300\n",
    "epochs = 30\n",
    "\n",
    "filepath='MLP_PDF_MODEL.hdf5'\n",
    "ModelCheckpointCB = ModelCheckpoint(filepath, monitor='val_loss', verbose=1,\n",
    "                    save_best_only=True, save_weights_only=False, mode='auto')\n",
    "\n",
    "model = MLP(Hlayer,Hneuron,Drate)\n",
    "model.summary()\n",
    "adam = Adam(lr=l_rate)\n",
    "model.compile(optimizer=adam, loss='categorical_crossentropy')\n",
    "history = model.fit(x=x_train,y=y_train,batch_size=batch_size,epochs=epochs,verbose=1, \n",
    "                    validation_data=(x_val,y_val),callbacks=[ModelCheckpointCB])"
   ]
  },
  {
   "cell_type": "code",
   "execution_count": 7,
   "metadata": {},
   "outputs": [
    {
     "data": {
      "image/png": "[encoded data removed]",
      "text/plain": [
       "<Figure size 432x288 with 1 Axes>"
      ]
     },
     "metadata": {
      "needs_background": "light"
     },
     "output_type": "display_data"
    }
   ],
   "source": [
    "lossplot(history)"
   ]
  },
  {
   "cell_type": "code",
   "execution_count": 8,
   "metadata": {},
   "outputs": [
    {
     "data": {
      "image/png": "[encoded data removed]",
      "text/plain": [
       "<Figure size 864x288 with 3 Axes>"
      ]
     },
     "metadata": {
      "needs_background": "light"
     },
     "output_type": "display_data"
    }
   ],
   "source": [
    "model.load_weights(filepath)\n",
    "histplot([x_train,x_val,x_test],[y_train,y_val,y_test])"
   ]
  },
  {
   "cell_type": "code",
   "execution_count": 9,
   "metadata": {},
   "outputs": [
    {
     "name": "stdout",
     "output_type": "stream",
     "text": [
      "(125000,)\n",
      "CRPS:  0.1052\n",
      "MAD:  0.0157\n",
      "bias:  0.0016\n",
      "outlier_fraction_eta pasquet:  0.0029\n",
      "RMS:  0.0205\n",
      "outlier fraction LSST:  0.0182\n"
     ]
    },
    {
     "data": {
      "image/png": "[encoded data removed]",
      "text/plain": [
       "<Figure size 432x288 with 2 Axes>"
      ]
     },
     "metadata": {
      "needs_background": "light"
     },
     "output_type": "display_data"
    },
    {
     "name": "stdout",
     "output_type": "stream",
     "text": [
      "(125000,)\n",
      "(125000,)\n",
      "(125000, 180)\n"
     ]
    },
    {
     "data": {
      "image/png": "[encoded data removed]",
      "text/plain": [
       "<Figure size 432x288 with 1 Axes>"
      ]
     },
     "metadata": {
      "needs_background": "light"
     },
     "output_type": "display_data"
    },
    {
     "name": "stdout",
     "output_type": "stream",
     "text": [
      "0.000552\n",
      " \n",
      "Normal distribution's fraction is 0.0002\n"
     ]
    }
   ],
   "source": [
    "y_pred = model.predict(x_val)\n",
    "\n",
    "#the analysis code\n",
    "from scipy.stats import kde\n",
    "x=y_val_examine\n",
    "y=np.sum(range_z*y_pred,1) #for categorical\n",
    "#y=y_pred[:,0] #for regression\n",
    "\n",
    "\n",
    "#CRPS, FOR CLASS ONLY:\n",
    "z_bins = np.argmax(y_val,axis=1)\n",
    "CRPS=np.zeros(len(y_val))\n",
    "for i in range(len(CRPS)):\n",
    "    CRPS[i] = (np.sum((np.cumsum(y_pred[i,0:z_bins[i]]))**2) + np.sum((np.cumsum(y_pred[i,z_bins[i]::])-1)**2)) * BIN_SIZE\n",
    "print(np.shape(CRPS))\n",
    "CRPS_estimator=np.mean(CRPS)\n",
    "\n",
    "#summary stats\n",
    "residuals = (x-y)/(1+x)\n",
    "bias = np.mean(residuals)\n",
    "MAD = 1.4826*np.median(abs(residuals - np.median(residuals)))\n",
    "outlier_fraction_eta = len(residuals[residuals > 5*MAD])/len(residuals)\n",
    "eta_LSST = len(residuals[residuals > 3*MAD*(1+residuals)])/len(residuals)\n",
    "RMS = np.sqrt(np.mean(np.square(residuals)))\n",
    "print('CRPS: ',round(CRPS_estimator,4))\n",
    "print('MAD: ',round(MAD,4))\n",
    "print('bias: ',round(bias,4))\n",
    "print('outlier_fraction_eta pasquet: ',round(outlier_fraction_eta,4))\n",
    "print('RMS: ',round(RMS,4))\n",
    "print('outlier fraction LSST: ',round(eta_LSST,4))\n",
    "#KDE plot\n",
    "nbins=300\n",
    "x=x[::100]\n",
    "y=y[::100]\n",
    "\n",
    "k = kde.gaussian_kde([x,y])\n",
    "xi, yi = np.mgrid[0:0.4:nbins*1j, 0:0.4:nbins*1j]\n",
    "zi = k(np.vstack([xi.flatten(), yi.flatten()]))\n",
    " \n",
    "# Make the plot\n",
    "plt.pcolormesh(xi, yi, zi.reshape(xi.shape), cmap='jet')\n",
    "plt.plot([0,1],[0,1],'k--')\n",
    "plt.xlim(0,0.3)\n",
    "plt.ylim(0,0.3)\n",
    "plt.title('MLP: every 100th point')\n",
    "plt.colorbar()\n",
    "plt.show()\n",
    "\n",
    "def PIT(X,Out,title='title',string='plot.png',save=False,n_classes=180):\n",
    "    \"\"\"\n",
    "    X = spectro Z array\n",
    "    Out = probabilities array\n",
    "    \"\"\"\n",
    "    print(np.shape(X))\n",
    "    X_true_bin = np.round((X/0.4)*(n_classes-1),0).astype(int)\n",
    "    X_true_bin[X_true_bin>=n_classes] = n_classes-1 \n",
    "    PIT = []\n",
    "\n",
    "    print(np.shape(X_true_bin))\n",
    "    print(np.shape(Out))\n",
    "    for i in range(len(X_true_bin)):\n",
    "        PIT.append(np.sum((Out[i,:])[0:X_true_bin[i]]))\n",
    "\n",
    "    PIT=np.asarray(PIT)\n",
    "\n",
    "    n_bins=n_classes\n",
    "    bins=np.linspace(0,1,n_bins)\n",
    "    #draw the line that is if it was a perfect distribution. it would have..\n",
    "    #len(PIT)/180 #number in each bin\n",
    "    plt.hlines((len(PIT)/n_bins),0,1,colors='k',linestyles='solid')\n",
    "    plt.xlim(0,1)\n",
    "    plt.hist(PIT,bins)\n",
    "    plt.title(title)\n",
    "    if save==True:\n",
    "        plt.savefig(string)\n",
    "    plt.show()\n",
    "\n",
    "    #catastropic outliers are thos with PIT values <0.0001 or >0.9999; a normal distribution would have 0.0002 fraction\n",
    "    catastropic_outlier_fraction = (len(PIT[PIT<0.0001]) + len(PIT[PIT>0.9999])) / len(PIT)\n",
    "    print(catastropic_outlier_fraction)\n",
    "    print(' ')\n",
    "    print(\"Normal distribution's fraction is 0.0002\") \n",
    "    \n",
    "PIT(y_val_examine,y_pred,'MLP PIT')"
   ]
  },
  {
   "cell_type": "code",
   "execution_count": null,
   "metadata": {},
   "outputs": [],
   "source": []
  }
 ],
 "metadata": {
  "kernelspec": {
   "display_name": "Python [conda env:fds] *",
   "language": "python",
   "name": "conda-env-fds-py"
  },
  "language_info": {
   "codemirror_mode": {
    "name": "ipython",
    "version": 3
   },
   "file_extension": ".py",
   "mimetype": "text/x-python",
   "name": "python",
   "nbconvert_exporter": "python",
   "pygments_lexer": "ipython3",
   "version": "3.7.7"
  }
 },
 "nbformat": 4,
 "nbformat_minor": 4
}
